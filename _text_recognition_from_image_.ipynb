{
 "cells": [
  {
   "cell_type": "code",
   "execution_count": 2,
   "id": "1d78f097",
   "metadata": {},
   "outputs": [],
   "source": [
    "#Import necessary libraries\n",
    "\n",
    "import os\n",
    "import cv2\n",
    "from PIL import Image\n",
    "import pytesseract as pt\n"
   ]
  },
  {
   "cell_type": "code",
   "execution_count": 3,
   "id": "443ba91f",
   "metadata": {},
   "outputs": [
    {
     "name": "stdout",
     "output_type": "stream",
     "text": [
      "abc-text.jpg\n",
      "bound-text-1.jpg\n",
      "bound-text-2.jpg\n",
      "contact-1.jpg\n",
      "hello-text.jpg\n",
      "hindi-news-1.jpg\n",
      "hindi-news-2.jpg\n",
      "hindi-text-1.jpg\n",
      "hindi-text-2.jpg\n",
      "image-paths.txt\n",
      "jap-text-1.png\n",
      "jap-text-2.png\n",
      "letter-1.png\n",
      "magazine-1.jpg\n",
      "news-1.png\n",
      "news-2.jpg\n",
      "portu-text-1.jpg\n",
      "portu-text-2.jpg\n",
      "selfie-circle.jpg\n",
      "sin-text-1.gif\n",
      "sin-text-2.gif\n",
      "span-text-1.png\n",
      "tam-text-1.png\n"
     ]
    }
   ],
   "source": [
    "test_img_path = r\"C:\\Users\\HP\\3D Objects\\test images\"\n",
    "create_path = lambda f:os.path.join(test_img_path, f)\n",
    "\n",
    "test_image_files = os.listdir(test_img_path)\n",
    "\n",
    "for f in test_image_files:\n",
    "    print(f)\n"
   ]
  },
  {
   "cell_type": "code",
   "execution_count": 4,
   "id": "8e05fb1d",
   "metadata": {},
   "outputs": [],
   "source": [
    "def show_image(img_path,size=(500, 500)):\n",
    "    image = cv2.imread(img_path)\n",
    "    image = cv2.resize(image,size)\n",
    "    \n",
    "    cv2.imshow(\"IMAGE\", image)\n",
    "    cv2.waitKey(0)\n",
    "    "
   ]
  },
  {
   "cell_type": "code",
   "execution_count": 5,
   "id": "a14a5b95",
   "metadata": {},
   "outputs": [],
   "source": [
    "#Configure tesseract path in implementations \n",
    "\n",
    "pt.pytesseract.tesseract_cmd = r\"C:\\Program Files\\Tesseract-OCR\\tesseract.exe\""
   ]
  },
  {
   "cell_type": "code",
   "execution_count": 6,
   "id": "ab47768c",
   "metadata": {},
   "outputs": [
    {
     "name": "stdout",
     "output_type": "stream",
     "text": [
      "eng\n",
      "hin\n",
      "jpn\n",
      "osd\n",
      "por\n",
      "sin\n",
      "tam\n"
     ]
    }
   ],
   "source": [
    "#Check available languages\n",
    "\n",
    "avb_langs = pt.get_languages(config='')\n",
    "\n",
    "for lang in avb_langs:\n",
    "    print(lang)\n"
   ]
  },
  {
   "cell_type": "code",
   "execution_count": 7,
   "id": "67ee4b0e",
   "metadata": {},
   "outputs": [
    {
     "name": "stdout",
     "output_type": "stream",
     "text": [
      "WEAK prope\n",
      "REVENGE.\n",
      "STRONG pEoPLE\n",
      "FORGIVE.\n",
      "INTELLIGENT propLe\n",
      "IGNORE.\n",
      "\n",
      "\n"
     ]
    }
   ],
   "source": [
    "# Extract text from an image simply\n",
    "\n",
    "image_path = test_image_files[2]\n",
    "path = create_path(image_path)\n",
    "\n",
    "image = Image.open(path)\n",
    "text  = pt.image_to_string(image)\n",
    "\n",
    "print(text)"
   ]
  },
  {
   "cell_type": "code",
   "execution_count": 8,
   "id": "f1fc5db6",
   "metadata": {},
   "outputs": [
    {
     "name": "stdout",
     "output_type": "stream",
     "text": [
      "सुखद : आसन वेटलैंड में पलास\n",
      "फिंश ईगल की नेसिंटग शुरू\n",
      "\n",
      "जागरण संवाददाता, विकासनगर :देश के पहले\n",
      "कंजरवेशन रिजर्व आसन वेटलैंड में प्रवास पर आए\n",
      "पलास फिश ईगल (वैज्ञानिक नाम हालियाइटस\n",
      "ल्यूकॉरीपस ) के जोड़े ने सेमल के पेड़ पर\n",
      "आशियाना तैयार करना शुरू कर दिया है । चकराता\n",
      "वन प्रभाग इसे एक सुखद संकेत मान रहा है। वहीं\n",
      "आसन नमथभूमि में प्रवासी परिंदों की संख्या बढ़कर\n",
      "पांच हजार के करीब हो गई है ।शिकारियों पर अंकुश\n",
      "को सशस्त्र वन टीम की रात दिन गश्त चल रही है।\n",
      "रविवार को जीएमवीएन के आसन पर्यटन स्थल पर\n",
      "आए पक्षी प्रेमियों व पर्यटकों ने बोटिंग के साथ ही बर्ड\n",
      "वाचिंग का भी आनंद लिया।\n",
      "\n",
      "दुर्लभ प्रजाति के पलाश फिश ईगल मुख्य रूप से\n",
      "कजाकिस्तान, मंगोलिया, बंग्लादेश आदि देशों से\n",
      "प्रवास पर आते हैं पिछले 50 साल से पलास फिश\n",
      "ईगल का जोड़ा प्रवास पर आ स्हा है। इस बार जोड़े ने\n",
      "नमभुूमि क्षेत्र के आरक्षित वन क्षेत्र में सेमल के पेड़\n",
      "पर आशियाना तैयार करना शुरू कर दिया है । आसन\n",
      "रेंजर जवाहर सिंह तोमर व वन बीट अधिकारी प्रदीप\n",
      "सक्सेना ने लंबे समय बाद आशियाना तैयार कर रहे\n",
      "पलाश फिश ईगल की गतिविधियों पर ध्यान देना\n",
      "शुरू कर दिया है। प्रभाग अधिकारी इसे सुखद मान\n",
      "रहे हैं। वहीं 20 प्रजातियों के प्रवासी परिंदों की संख्या\n",
      "बढ़कर पांच हजार के करीब पहुंच गई है।\n",
      "अधिकारियों ने बताया कि जल्द ही पक्षी विशेषज्ञ\n",
      "गणना के लिए नमभूमि आएंगे। जिसके बाद पक्षियों\n",
      "से संबंधित आंकड़े जारी किए जाएंगे ।\n",
      "\n",
      "बीते कुछ समय से लगातार सूखी ठंड पड़ने से भी\n",
      "प्रवासी पक्षियों की आमद में कमी आ गई थी, जो\n",
      "पिछले वर्ष की अपेक्षा काफी कम थी। इसे लेकर\n",
      "पक्षी विशेषज्ञ चिंता जता रहे थे। लेकिन, धीरे-धीरे\n",
      "बढ़ रही पक्षियों की संख्या से विशेषज्ञों व वन कर्मियों\n",
      "ने राहत की सांस ली है ।चकराता वन प्रभाग के रेंजर\n",
      "आसन जवाहर सिंह तोमर व वन बीट अधिकारी\n",
      "प्रदीप सक्सेना के अनुसार डीएफ-ओ दीपचंद आर्य\n",
      "\n",
      "रह\n",
      "\n",
      "आसनवेटलैंड में सेमल के पेड पर बैठा पलाश फिश\n",
      "'ईगल ० जागरण\n",
      "\n",
      "बोटिंग के साथ बर्ड वाचिंग\n",
      "\n",
      "डिनर जैसे. 5\n",
      "\n",
      "जीएमवीएन के आसन पर्यटन स्थल पर नववर्ष\n",
      "के पहले दिन भारी संख्या में पर्यटक व पक्षी प्रेमी\n",
      "उमड़े । जिन्होंने पैडल बोट का आनंद लेने के साथ\n",
      "ही बर्ड वाचिंग भी की । आसन पर्यटन स्थल के\n",
      "प्रबंचक अजयपाल कंडारी के अनुसार बोट की\n",
      "रक्त संख्या बढ़ाने के प्रयास किए\n",
      "जारहे हैं ।\n",
      "\n",
      "के निर्देश के चलते प्रवासी परिंदों की सुरक्षा को गश्त\n",
      "पर विशेष ध्यान दिया जा रहा है । प्रवासी परिंदों की\n",
      "संख्या में इजाफा हो रहा है, जो आने वाले समय के\n",
      "लिए सुस्वद संकेत है ।\n",
      "\n"
     ]
    }
   ],
   "source": [
    "# Extract text from an image - Specifying a language\n",
    "\n",
    "path = create_path(\"hindi-news-2.jpg\")\n",
    "\n",
    "image = Image.open(path)\n",
    "text = pt.image_to_string(image, lang='hin')\n",
    "\n",
    "print(text)"
   ]
  },
  {
   "cell_type": "code",
   "execution_count": 35,
   "id": "1ac41f63",
   "metadata": {},
   "outputs": [
    {
     "name": "stdout",
     "output_type": "stream",
     "text": [
      "未鯨な 〈 二敦 も\n",
      "Wi七h。u七 regreも\n",
      "\n",
      "\f",
      "日本語の衣\"し こおいては, 漢字ゃ仮名だけで\n",
      "な〈, ロ一マ字ゃアラビア数字' さらに句読\n",
      "点ゃ括弧類などの記述記号を用いる。 これら\n",
      "を糾み合わせて表す日本語の文書では, 表記\n",
      "上における種々の問題がぁる。\n",
      "\n",
      "\n"
     ]
    }
   ],
   "source": [
    "# Extract text from and image : Multiple images once\n",
    "\n",
    "img_name_txt_file = r\"C:\\Users\\HP\\3D Objects\\test images\\image-paths.txt\"\n",
    "text = pt.image_to_string(img_name_txt_file, lang= 'jpn')\n",
    "\n",
    "print(text)"
   ]
  },
  {
   "cell_type": "code",
   "execution_count": 10,
   "id": "2d66363b",
   "metadata": {},
   "outputs": [
    {
     "name": "stdout",
     "output_type": "stream",
     "text": [
      "ar\n",
      "\n",
      "he\n",
      "\n",
      "DENTON d HON\n",
      "\n",
      "ISSUE NO.9.164\n",
      "Fs\n",
      "\n",
      "60\n",
      "\n",
      "MONDAY 22 FEBRUARY 2016 ‘WWW.INDEPENDENT.CO.UK\n",
      "\n",
      "The hypocrisy of ‘no platform’ fury voces»\n",
      "\n",
      "Robert Fisk Matthew Norman\n",
      "‘The Raqqa teacher ‘You may not like her, but\n",
      "evicted by her students | the world needs Hillary\n",
      "ss VoIcEs P.20 VOICES .20\n",
      "ee ae Virginia Ironside Ben Chu ‘\n",
      "= Group therapy is nothing | Help to Buy has barely i e\n",
      "\n",
      "Our failed Utopias to be frightened of helped at all Lena Dunham at 30\n",
      "Better worlds gone wrong sicreao DILEMMAS P.37 BUSINESS P53 On life after ‘Girls’ arrspao\n",
      "\n",
      "N\n",
      "\n",
      "‘After days of speculation, Boris Johnson announced yesterday that he will be ‘advocating Vote Leave ... because I want a better deal’ gpa\n",
      "\n",
      "Out for himse\n",
      "\n",
      "Boris Johnson confirms he will back Brexit — putting him in line for No 10 if UK votes to leave\n",
      "Downing Street fears up to 150 Tory MPs could defy PM by campaigning against his EU deal\n",
      "\n",
      "country out ofthe European Vote Leave”.Butsignificantly istovotetogo;because allEU of the “leave” campaign and\n",
      "\n",
      "Unionbybecomingthemost he seemed to suggest that a_ history shows that they only _ the front-runner to become\n",
      "\n",
      "significant Tory todeclare in “leave” vote might not nec- really listen toa population _ prime minister should be the\n",
      "\n",
      "favour of Brexit. essarily be final and could when it says no,\"he said. “I country vote Out in June’s\n",
      "Ms The London Mayor said instead resultina“newrela- wouldliketobeinareformed referendum.\n",
      "\n",
      "Boris Johnson has gambled yesterday that after a“huge tionship” betweenthe UKand  EUandthat’smyhope,anEU While Mr Cameron has\n",
      "\n",
      "his long-standing ambition amount ofheartache”he had _rest of Europe based upon that’s based on fundamental _insisted he would stay on\n",
      "\n",
      "OLIVER WRIGHT\n",
      "POLITICAL EDITOR\n",
      "\n",
      "to become Britain’s next made the “agonisingly diffi- “trade and co-operation”. treaty change. whatever the result, most\n",
      "\n",
      "prime minister on winning cult” decision to go against _“Thereisonlyonewaytoget_ Mr Johnson’s decision\n",
      "\n",
      "the referendum to pull the DavidCameronand“advocate thechangeweneed-andthat makes him the natural leader Continued on Ps >\n",
      "INSIDE: FULE RE a E\n",
      "\n",
      "\n"
     ]
    }
   ],
   "source": [
    "# Extract text from and image :Timeout Extraction\n",
    "\n",
    "path = create_path(\"news-2.jpg\")\n",
    "\n",
    "image = Image.open(path)\n",
    "text = 'NO TEXT TO BE APPEARED'\n",
    "\n",
    "try:\n",
    "    text = pt.image_to_string(image, lang='eng', timeout=10)\n",
    "except RuntimeError as timeout_error:\n",
    "    print(\"Timeout Error\")\n",
    "    \n",
    "print(text)\n",
    "show_image(path)\n"
   ]
  },
  {
   "cell_type": "code",
   "execution_count": 11,
   "id": "7c6869fa",
   "metadata": {},
   "outputs": [
    {
     "name": "stdout",
     "output_type": "stream",
     "text": [
      "W 123 486 200 545 0\n",
      "E 171 486 217 545 0\n",
      "A 206 487 240 529 0\n",
      "K 243 487 329 529 0\n",
      "p 351 479 380 514 0\n",
      "r 385 479 414 514 0\n",
      "o 419 479 451 515 0\n",
      "p 456 479 483 514 0\n",
      "e 488 479 550 514 0\n",
      "R 179 418 217 460 0\n",
      "E 222 419 257 460 0\n",
      "V 260 418 302 460 0\n",
      "E 306 419 340 460 0\n",
      "N 346 419 389 460 0\n",
      "G 375 411 413 460 0\n",
      "E 394 418 433 460 0\n",
      ". 439 411 491 460 0\n",
      "S 95 350 138 410 0\n",
      "T 146 351 180 392 0\n",
      "R 185 351 222 392 0\n",
      "O 228 350 264 392 0\n",
      "N 271 351 313 392 0\n",
      "G 319 350 357 392 0\n",
      "p 382 344 409 377 0\n",
      "E 416 344 444 377 0\n",
      "o 450 343 480 378 0\n",
      "P 488 344 514 377 0\n",
      "L 519 344 548 377 0\n",
      "E 552 343 580 377 0\n",
      "F 190 284 223 324 0\n",
      "O 229 283 266 324 0\n",
      "R 273 283 309 324 0\n",
      "G 315 283 354 324 0\n",
      "I 359 284 377 323 0\n",
      "V 381 283 421 323 0\n",
      "E 404 282 436 324 0\n",
      ". 426 282 480 323 0\n",
      "I 11 215 38 273 0\n",
      "N 45 215 87 256 0\n",
      "T 91 215 126 256 0\n",
      "E 133 215 166 256 0\n",
      "L 173 215 207 256 0\n",
      "L 211 215 245 256 0\n",
      "I 250 215 267 256 0\n",
      "G 275 214 313 256 0\n",
      "E 320 215 354 256 0\n",
      "N 360 215 402 256 0\n",
      "T 406 215 441 256 0\n",
      "p 466 207 492 241 0\n",
      "r 500 207 527 241 0\n",
      "o 533 207 564 241 0\n",
      "p 571 207 597 241 0\n",
      "L 603 207 631 241 0\n",
      "e 636 207 664 241 0\n",
      "I 208 146 226 188 0\n",
      "G 233 146 271 189 0\n",
      "N 277 146 319 188 0\n",
      "O 324 146 362 189 0\n",
      "R 368 146 405 188 0\n",
      "E 391 139 423 189 0\n",
      ". 411 139 463 188 0\n",
      "~ 323 0 674 27 0\n",
      "\n"
     ]
    }
   ],
   "source": [
    "# Get bounding box estimates\n",
    "\n",
    "path = create_path(\"bound-text-2.jpg\")\n",
    "\n",
    "image = Image.open(path)\n",
    "bound_rects = pt.image_to_boxes(image,lang = 'eng')\n",
    "\n",
    "print(bound_rects)\n",
    "show_image(path)\n"
   ]
  },
  {
   "cell_type": "code",
   "execution_count": 12,
   "id": "a30d1f10",
   "metadata": {},
   "outputs": [],
   "source": [
    "img = cv2.imread(path)\n",
    "h, _, _ = img.shape\n",
    "\n",
    "for b in bound_rects.splitlines():\n",
    "    b = b.strip().split(' ')\n",
    "    img = cv2.rectangle(img, (int(b[1]), h-int(b[2])), (int(b[3]), h-int(b[4])), (0, 255, 0),2)\n",
    "                               # x          Y             width       height    \n",
    "    cv2.imshow(\"Characterized img\",img)\n",
    "    \n",
    "    cv2.waitKey(0)\n",
    "    cv2.destroyAllWindows()\n",
    "    "
   ]
  },
  {
   "cell_type": "code",
   "execution_count": 13,
   "id": "0f112a20",
   "metadata": {},
   "outputs": [
    {
     "name": "stdout",
     "output_type": "stream",
     "text": [
      "level\tpage_num\tblock_num\tpar_num\tline_num\tword_num\tleft\ttop\twidth\theight\tconf\ttext\n",
      "1\t1\t0\t0\t0\t0\t0\t0\t300\t300\t-1\t\n",
      "2\t1\t1\t0\t0\t0\t2\t0\t294\t294\t-1\t\n",
      "3\t1\t1\t1\t0\t0\t2\t0\t294\t294\t-1\t\n",
      "4\t1\t1\t1\t1\t0\t2\t0\t294\t294\t-1\t\n",
      "5\t1\t1\t1\t1\t1\t2\t0\t294\t294\t95.000000\t \n",
      "\n"
     ]
    }
   ],
   "source": [
    "# Get data include boxes, confidences, line and page numbers\n",
    "\n",
    "image_path = test_image_files[0]\n",
    "path = create_path(image_path)\n",
    "\n",
    "image = Image.open(path)\n",
    "text = pt.image_to_data(image)\n",
    "\n",
    "print(text)\n",
    "show_image(path)"
   ]
  },
  {
   "cell_type": "code",
   "execution_count": 37,
   "id": "5d78e3a6",
   "metadata": {},
   "outputs": [
    {
     "ename": "TesseractError",
     "evalue": "(1, 'Warning, detects only orientation with -l eng Error, OSD requires a model for the legacy engine')",
     "output_type": "error",
     "traceback": [
      "\u001b[1;31m---------------------------------------------------------------------------\u001b[0m",
      "\u001b[1;31mTesseractError\u001b[0m                            Traceback (most recent call last)",
      "\u001b[1;32m~\\AppData\\Local\\Temp\\ipykernel_4208\\3279473991.py\u001b[0m in \u001b[0;36m<module>\u001b[1;34m\u001b[0m\n\u001b[0;32m      4\u001b[0m \u001b[0mpath\u001b[0m \u001b[1;33m=\u001b[0m \u001b[0mcreate_path\u001b[0m\u001b[1;33m(\u001b[0m\u001b[0mimage_path\u001b[0m\u001b[1;33m)\u001b[0m\u001b[1;33m\u001b[0m\u001b[1;33m\u001b[0m\u001b[0m\n\u001b[0;32m      5\u001b[0m \u001b[1;33m\u001b[0m\u001b[0m\n\u001b[1;32m----> 6\u001b[1;33m \u001b[0mprint\u001b[0m\u001b[1;33m(\u001b[0m\u001b[0mpt\u001b[0m\u001b[1;33m.\u001b[0m\u001b[0mimage_to_osd\u001b[0m\u001b[1;33m(\u001b[0m\u001b[0mpath\u001b[0m\u001b[1;33m,\u001b[0m \u001b[0mlang\u001b[0m\u001b[1;33m=\u001b[0m\u001b[1;34m'eng'\u001b[0m\u001b[1;33m)\u001b[0m\u001b[1;33m)\u001b[0m\u001b[1;33m\u001b[0m\u001b[1;33m\u001b[0m\u001b[0m\n\u001b[0m",
      "\u001b[1;32m~\\venv\\lib\\site-packages\\pytesseract\\pytesseract.py\u001b[0m in \u001b[0;36mimage_to_osd\u001b[1;34m(image, lang, config, nice, output_type, timeout)\u001b[0m\n\u001b[0;32m    554\u001b[0m         \u001b[0mOutput\u001b[0m\u001b[1;33m.\u001b[0m\u001b[0mDICT\u001b[0m\u001b[1;33m:\u001b[0m \u001b[1;32mlambda\u001b[0m\u001b[1;33m:\u001b[0m \u001b[0mosd_to_dict\u001b[0m\u001b[1;33m(\u001b[0m\u001b[0mrun_and_get_output\u001b[0m\u001b[1;33m(\u001b[0m\u001b[1;33m*\u001b[0m\u001b[0margs\u001b[0m\u001b[1;33m)\u001b[0m\u001b[1;33m)\u001b[0m\u001b[1;33m,\u001b[0m\u001b[1;33m\u001b[0m\u001b[1;33m\u001b[0m\u001b[0m\n\u001b[0;32m    555\u001b[0m         \u001b[0mOutput\u001b[0m\u001b[1;33m.\u001b[0m\u001b[0mSTRING\u001b[0m\u001b[1;33m:\u001b[0m \u001b[1;32mlambda\u001b[0m\u001b[1;33m:\u001b[0m \u001b[0mrun_and_get_output\u001b[0m\u001b[1;33m(\u001b[0m\u001b[1;33m*\u001b[0m\u001b[0margs\u001b[0m\u001b[1;33m)\u001b[0m\u001b[1;33m,\u001b[0m\u001b[1;33m\u001b[0m\u001b[1;33m\u001b[0m\u001b[0m\n\u001b[1;32m--> 556\u001b[1;33m     }[output_type]()\n\u001b[0m\u001b[0;32m    557\u001b[0m \u001b[1;33m\u001b[0m\u001b[0m\n\u001b[0;32m    558\u001b[0m \u001b[1;33m\u001b[0m\u001b[0m\n",
      "\u001b[1;32m~\\venv\\lib\\site-packages\\pytesseract\\pytesseract.py\u001b[0m in \u001b[0;36m<lambda>\u001b[1;34m()\u001b[0m\n\u001b[0;32m    553\u001b[0m         \u001b[0mOutput\u001b[0m\u001b[1;33m.\u001b[0m\u001b[0mBYTES\u001b[0m\u001b[1;33m:\u001b[0m \u001b[1;32mlambda\u001b[0m\u001b[1;33m:\u001b[0m \u001b[0mrun_and_get_output\u001b[0m\u001b[1;33m(\u001b[0m\u001b[1;33m*\u001b[0m\u001b[1;33m(\u001b[0m\u001b[0margs\u001b[0m \u001b[1;33m+\u001b[0m \u001b[1;33m[\u001b[0m\u001b[1;32mTrue\u001b[0m\u001b[1;33m]\u001b[0m\u001b[1;33m)\u001b[0m\u001b[1;33m)\u001b[0m\u001b[1;33m,\u001b[0m\u001b[1;33m\u001b[0m\u001b[1;33m\u001b[0m\u001b[0m\n\u001b[0;32m    554\u001b[0m         \u001b[0mOutput\u001b[0m\u001b[1;33m.\u001b[0m\u001b[0mDICT\u001b[0m\u001b[1;33m:\u001b[0m \u001b[1;32mlambda\u001b[0m\u001b[1;33m:\u001b[0m \u001b[0mosd_to_dict\u001b[0m\u001b[1;33m(\u001b[0m\u001b[0mrun_and_get_output\u001b[0m\u001b[1;33m(\u001b[0m\u001b[1;33m*\u001b[0m\u001b[0margs\u001b[0m\u001b[1;33m)\u001b[0m\u001b[1;33m)\u001b[0m\u001b[1;33m,\u001b[0m\u001b[1;33m\u001b[0m\u001b[1;33m\u001b[0m\u001b[0m\n\u001b[1;32m--> 555\u001b[1;33m         \u001b[0mOutput\u001b[0m\u001b[1;33m.\u001b[0m\u001b[0mSTRING\u001b[0m\u001b[1;33m:\u001b[0m \u001b[1;32mlambda\u001b[0m\u001b[1;33m:\u001b[0m \u001b[0mrun_and_get_output\u001b[0m\u001b[1;33m(\u001b[0m\u001b[1;33m*\u001b[0m\u001b[0margs\u001b[0m\u001b[1;33m)\u001b[0m\u001b[1;33m,\u001b[0m\u001b[1;33m\u001b[0m\u001b[1;33m\u001b[0m\u001b[0m\n\u001b[0m\u001b[0;32m    556\u001b[0m     }[output_type]()\n\u001b[0;32m    557\u001b[0m \u001b[1;33m\u001b[0m\u001b[0m\n",
      "\u001b[1;32m~\\venv\\lib\\site-packages\\pytesseract\\pytesseract.py\u001b[0m in \u001b[0;36mrun_and_get_output\u001b[1;34m(image, extension, lang, config, nice, timeout, return_bytes)\u001b[0m\n\u001b[0;32m    286\u001b[0m         }\n\u001b[0;32m    287\u001b[0m \u001b[1;33m\u001b[0m\u001b[0m\n\u001b[1;32m--> 288\u001b[1;33m         \u001b[0mrun_tesseract\u001b[0m\u001b[1;33m(\u001b[0m\u001b[1;33m**\u001b[0m\u001b[0mkwargs\u001b[0m\u001b[1;33m)\u001b[0m\u001b[1;33m\u001b[0m\u001b[1;33m\u001b[0m\u001b[0m\n\u001b[0m\u001b[0;32m    289\u001b[0m         \u001b[0mfilename\u001b[0m \u001b[1;33m=\u001b[0m \u001b[1;34mf\"{kwargs['output_filename_base']}{extsep}{extension}\"\u001b[0m\u001b[1;33m\u001b[0m\u001b[1;33m\u001b[0m\u001b[0m\n\u001b[0;32m    290\u001b[0m         \u001b[1;32mwith\u001b[0m \u001b[0mopen\u001b[0m\u001b[1;33m(\u001b[0m\u001b[0mfilename\u001b[0m\u001b[1;33m,\u001b[0m \u001b[1;34m'rb'\u001b[0m\u001b[1;33m)\u001b[0m \u001b[1;32mas\u001b[0m \u001b[0moutput_file\u001b[0m\u001b[1;33m:\u001b[0m\u001b[1;33m\u001b[0m\u001b[1;33m\u001b[0m\u001b[0m\n",
      "\u001b[1;32m~\\venv\\lib\\site-packages\\pytesseract\\pytesseract.py\u001b[0m in \u001b[0;36mrun_tesseract\u001b[1;34m(input_filename, output_filename_base, extension, lang, config, nice, timeout)\u001b[0m\n\u001b[0;32m    262\u001b[0m     \u001b[1;32mwith\u001b[0m \u001b[0mtimeout_manager\u001b[0m\u001b[1;33m(\u001b[0m\u001b[0mproc\u001b[0m\u001b[1;33m,\u001b[0m \u001b[0mtimeout\u001b[0m\u001b[1;33m)\u001b[0m \u001b[1;32mas\u001b[0m \u001b[0merror_string\u001b[0m\u001b[1;33m:\u001b[0m\u001b[1;33m\u001b[0m\u001b[1;33m\u001b[0m\u001b[0m\n\u001b[0;32m    263\u001b[0m         \u001b[1;32mif\u001b[0m \u001b[0mproc\u001b[0m\u001b[1;33m.\u001b[0m\u001b[0mreturncode\u001b[0m\u001b[1;33m:\u001b[0m\u001b[1;33m\u001b[0m\u001b[1;33m\u001b[0m\u001b[0m\n\u001b[1;32m--> 264\u001b[1;33m             \u001b[1;32mraise\u001b[0m \u001b[0mTesseractError\u001b[0m\u001b[1;33m(\u001b[0m\u001b[0mproc\u001b[0m\u001b[1;33m.\u001b[0m\u001b[0mreturncode\u001b[0m\u001b[1;33m,\u001b[0m \u001b[0mget_errors\u001b[0m\u001b[1;33m(\u001b[0m\u001b[0merror_string\u001b[0m\u001b[1;33m)\u001b[0m\u001b[1;33m)\u001b[0m\u001b[1;33m\u001b[0m\u001b[1;33m\u001b[0m\u001b[0m\n\u001b[0m\u001b[0;32m    265\u001b[0m \u001b[1;33m\u001b[0m\u001b[0m\n\u001b[0;32m    266\u001b[0m \u001b[1;33m\u001b[0m\u001b[0m\n",
      "\u001b[1;31mTesseractError\u001b[0m: (1, 'Warning, detects only orientation with -l eng Error, OSD requires a model for the legacy engine')"
     ]
    }
   ],
   "source": [
    "# Get info about orientation and script detection\n",
    "\n",
    "image_path = \"portu.jpg\"\n",
    "path = create_path(image_path)\n",
    "\n",
    "print(pt.image_to_osd(path, lang='eng'))"
   ]
  },
  {
   "cell_type": "code",
   "execution_count": 30,
   "id": "fe1364ae",
   "metadata": {},
   "outputs": [],
   "source": [
    "# Convert into different file formats(PDF, XML, HOCR)\n",
    "\n",
    "image_path = \"news-2.jpg\"\n",
    "path = create_path(image_path)\n",
    "file_save_path = r'C:\\Users\\HP\\3D Objects\\files'"
   ]
  },
  {
   "cell_type": "code",
   "execution_count": 31,
   "id": "54874de4",
   "metadata": {},
   "outputs": [],
   "source": [
    "pdf = pt.image_to_pdf_or_hocr(path, extension='pdf')\n",
    "\n",
    "file = open(os.path.join(file_save_path, \"pdf-content.pdf\"),'w+b')\n",
    "\n",
    "file.write(pdf)\n",
    "file.close()"
   ]
  },
  {
   "cell_type": "code",
   "execution_count": 32,
   "id": "1cd00c45",
   "metadata": {},
   "outputs": [],
   "source": [
    "# hocr: open standard of data representation for formatted text obtained from (OCR)\n",
    "\n",
    "hocr = pt.image_to_pdf_or_hocr(path, extension='hocr')\n",
    "\n",
    "file = open(os.path.join(file_save_path, \"hocr-content.html\"), 'w+b')\n",
    "file.write(hocr)\n",
    "file.close()"
   ]
  },
  {
   "cell_type": "code",
   "execution_count": 33,
   "id": "33692cfa",
   "metadata": {},
   "outputs": [],
   "source": [
    "xml = pt.image_to_alto_xml(path)\n",
    "\n",
    "file = open(os.path.join(file_save_path, \"xml-content.xml\"), 'w+b')\n",
    "file.write(xml)\n",
    "file.close()"
   ]
  },
  {
   "cell_type": "code",
   "execution_count": null,
   "id": "a26e4d66",
   "metadata": {},
   "outputs": [],
   "source": []
  },
  {
   "cell_type": "code",
   "execution_count": null,
   "id": "c5799f89",
   "metadata": {},
   "outputs": [],
   "source": []
  }
 ],
 "metadata": {
  "kernelspec": {
   "display_name": "Python (venv)",
   "language": "python",
   "name": "myenv"
  },
  "language_info": {
   "codemirror_mode": {
    "name": "ipython",
    "version": 3
   },
   "file_extension": ".py",
   "mimetype": "text/x-python",
   "name": "python",
   "nbconvert_exporter": "python",
   "pygments_lexer": "ipython3",
   "version": "3.7.9"
  }
 },
 "nbformat": 4,
 "nbformat_minor": 5
}
